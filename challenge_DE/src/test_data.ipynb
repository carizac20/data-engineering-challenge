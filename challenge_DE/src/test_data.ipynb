{
 "cells": [
  {
   "cell_type": "code",
   "execution_count": 4,
   "metadata": {},
   "outputs": [],
   "source": [
    "import json\n",
    "import random\n",
    "from faker import Faker\n",
    "from datetime import datetime, timedelta\n",
    "import pandas as pd"
   ]
  },
  {
   "cell_type": "code",
   "execution_count": 1,
   "metadata": {},
   "outputs": [],
   "source": [
    "# Ruta del archivo JSON\n",
    "file_path = r\"C:\\Users\\CAMILO\\OneDrive\\Documents\\GitHub\\data-engineering-challenge\\tweets\\farmers-protest-tweets-2021-2-4.json\""
   ]
  },
  {
   "cell_type": "code",
   "execution_count": 5,
   "metadata": {},
   "outputs": [],
   "source": [
    "# Definir la lista de emojis\n",
    "emojis = [\"😀\", \"😂\", \"🤣\", \"😜\", \"😎\", \"😍\", \"😊\", \"😢\", \"🥳\", \"🤓\", \"🧐\", \"😕\", \"👍\", \"💖\", \"🔥\", \"🎉\", \"💯\", \"🙌\", \"🤔\", \"😱\"]\n",
    "\n",
    "# Crear un Faker para generar fechas y nombres de usuario\n",
    "fake = Faker()\n",
    "\n",
    "# Generar 100 fechas únicas\n",
    "unique_dates = [fake.date_between(start_date='-1y', end_date='today') for _ in range(100)]\n",
    "\n",
    "# Generar 100 nombres de usuario únicos\n",
    "usernames = [fake.user_name() for _ in range(100)]\n",
    "\n",
    "# Generar datos falsos incluyendo un emoji aleatorio\n",
    "data = []\n",
    "for _ in range(100):  # Suponiendo que quieres 100 tweets\n",
    "    random_date = random.choice(unique_dates)\n",
    "    random_username = random.choice(usernames)\n",
    "    random_emoji = random.choice(emojis)\n",
    "    random_tweet = fake.text() + \" \" + random_emoji\n",
    "    data.append({'id': fake.uuid4(), 'date': random_date, 'username': random_username, 'content': random_tweet})\n"
   ]
  },
  {
   "cell_type": "code",
   "execution_count": 6,
   "metadata": {},
   "outputs": [],
   "source": [
    "# Convertir la lista de diccionarios en un DataFrame de Pandas\n",
    "df = pd.DataFrame(data)\n",
    "\n",
    "# Exportar el DataFrame a un archivo CSV\n",
    "df.to_csv('test_data.csv', index=False)"
   ]
  },
  {
   "cell_type": "code",
   "execution_count": 7,
   "metadata": {},
   "outputs": [
    {
     "name": "stdout",
     "output_type": "stream",
     "text": [
      "Total de valores nulos en el DataFrame: 0\n"
     ]
    }
   ],
   "source": [
    "import pandas as pd\n",
    "\n",
    "\n",
    "\n",
    "# Cargar el archivo JSON en un DataFrame de pandas\n",
    "df = pd.read_json(file_path, lines=True)\n",
    "\n",
    "# Seleccionar las columnas de interés\n",
    "columns_of_interest = ['id', 'content', 'date']\n",
    "\n",
    "# Filtrar el DataFrame para incluir solo las columnas de interés\n",
    "df = df[columns_of_interest]\n",
    "\n",
    "# Identificar valores nulos en el DataFrame\n",
    "null_values = df.isnull().sum().sum()\n",
    "\n",
    "# Mostrar el conteo total de valores nulos en el DataFrame\n",
    "print(\"Total de valores nulos en el DataFrame:\", null_values)\n"
   ]
  },
  {
   "cell_type": "code",
   "execution_count": 8,
   "metadata": {},
   "outputs": [
    {
     "name": "stdout",
     "output_type": "stream",
     "text": [
      "+---+-----+\n",
      "| id|count|\n",
      "+---+-----+\n",
      "+---+-----+\n",
      "\n"
     ]
    }
   ],
   "source": [
    "from pyspark.sql import SparkSession\n",
    "\n",
    "# Iniciar una sesión de Spark\n",
    "spark = SparkSession.builder \\\n",
    "    .appName(\"DuplicateDetection\") \\\n",
    "    .getOrCreate()\n",
    "\n",
    "# Ruta del archivo JSON\n",
    "file_path = r\"C:\\Users\\CAMILO\\OneDrive\\Documents\\GitHub\\data-engineering-challenge\\tweets\\farmers-protest-tweets-2021-2-4.json\"\n",
    "\n",
    "# Cargar el archivo JSON en un DataFrame de Spark\n",
    "df = spark.read.json(file_path)\n",
    "\n",
    "# Contar duplicados por el campo 'id'\n",
    "duplicate_count = df.groupBy(\"id\").count()\n",
    "\n",
    "# Filtrar duplicados\n",
    "duplications = duplicate_count.filter(duplicate_count[\"count\"] > 1)\n",
    "\n",
    "# Mostrar duplicados\n",
    "duplications.show()\n"
   ]
  }
 ],
 "metadata": {
  "kernelspec": {
   "display_name": "Python 3",
   "language": "python",
   "name": "python3"
  },
  "language_info": {
   "codemirror_mode": {
    "name": "ipython",
    "version": 3
   },
   "file_extension": ".py",
   "mimetype": "text/x-python",
   "name": "python",
   "nbconvert_exporter": "python",
   "pygments_lexer": "ipython3",
   "version": "3.12.2"
  }
 },
 "nbformat": 4,
 "nbformat_minor": 2
}
